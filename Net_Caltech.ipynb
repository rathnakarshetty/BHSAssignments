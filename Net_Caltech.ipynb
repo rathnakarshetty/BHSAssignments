{
  "nbformat": 4,
  "nbformat_minor": 0,
  "metadata": {
    "colab": {
      "name": "Net_Caltech.ipynb",
      "provenance": [],
      "collapsed_sections": [],
      "include_colab_link": true
    },
    "kernelspec": {
      "name": "python3",
      "display_name": "Python 3"
    }
  },
  "cells": [
    {
      "cell_type": "markdown",
      "metadata": {
        "id": "view-in-github",
        "colab_type": "text"
      },
      "source": [
        "<a href=\"https://colab.research.google.com/github/rathnakarshetty/BHSAssignments/blob/main/Net_Caltech.ipynb\" target=\"_parent\"><img src=\"https://colab.research.google.com/assets/colab-badge.svg\" alt=\"Open In Colab\"/></a>"
      ]
    },
    {
      "cell_type": "code",
      "metadata": {
        "id": "29-uYfOEaA_I"
      },
      "source": [
        "import keras\r\n",
        "from keras.preprocessing import image\r\n",
        "from keras import layers, models, optimizers\r\n",
        "from keras.applications import VGG16"
      ],
      "execution_count": 2,
      "outputs": []
    },
    {
      "cell_type": "code",
      "metadata": {
        "id": "t20Y5OHbad16",
        "colab": {
          "base_uri": "https://localhost:8080/"
        },
        "outputId": "eb543964-e941-4626-b947-48beb7a497a4"
      },
      "source": [
        "base_model = VGG16(input_shape=(224, 224, 3), weights='imagenet', include_top=True)\r\n",
        "#base_model.summary()\r\n",
        "\r\n",
        "X = base_model.layers[-2].output\r\n",
        "X = layers.Dense(102, activation='softmax')(X)\r\n",
        "base_model = models.Model(inputs=base_model.inputs, outputs=X)\r\n",
        "\r\n",
        "#base_model.summary()\r\n"
      ],
      "execution_count": 3,
      "outputs": [
        {
          "output_type": "stream",
          "text": [
            "Downloading data from https://storage.googleapis.com/tensorflow/keras-applications/vgg16/vgg16_weights_tf_dim_ordering_tf_kernels.h5\n",
            "553467904/553467096 [==============================] - 6s 0us/step\n"
          ],
          "name": "stdout"
        }
      ]
    },
    {
      "cell_type": "code",
      "metadata": {
        "id": "k1FFEpavageb"
      },
      "source": [
        "for i in range(len(base_model.layers)-1):\r\n",
        "\tbase_model.layers[i].trainable = False\r\n",
        "#base_model.summary()"
      ],
      "execution_count": 4,
      "outputs": []
    },
    {
      "cell_type": "code",
      "metadata": {
        "colab": {
          "base_uri": "https://localhost:8080/"
        },
        "id": "V6apRE-7adtF",
        "outputId": "c362da2a-5088-49fd-b444-eb08c886326a"
      },
      "source": [
        "from google.colab import drive\r\n",
        "drive.mount('/content/drive')\r\n"
      ],
      "execution_count": 5,
      "outputs": [
        {
          "output_type": "stream",
          "text": [
            "Mounted at /content/drive\n"
          ],
          "name": "stdout"
        }
      ]
    },
    {
      "cell_type": "code",
      "metadata": {
        "id": "6W6NGxVydl0h"
      },
      "source": [
        "import os\r\n",
        "DATA_FOLDER = \"/content/drive/My Drive/WADLA 2021/DB/CALTECH/CalTech101\"\r\n",
        "# DATA_FOLDER = \"CalTech101\"\r\n",
        "TRAIN_PATH = os.path.join(DATA_FOLDER, \"training\") # Path for training data\r\n",
        "VALID_PATH = os.path.join(DATA_FOLDER, \"validation\") # Path for validation data\r\n",
        "NUMBER_OF_CLASSES = len(os.listdir(TRAIN_PATH)) # Number of classes of the dataset\r\n"
      ],
      "execution_count": 6,
      "outputs": []
    },
    {
      "cell_type": "code",
      "metadata": {
        "colab": {
          "base_uri": "https://localhost:8080/"
        },
        "id": "_UVEVnX2f_Ov",
        "outputId": "e77924cb-aba9-49e6-badf-6550c5f2df9e"
      },
      "source": [
        "batch_size = 128\r\n",
        "EPOCHS=2\r\n",
        "datagen = image.ImageDataGenerator(preprocessing_function=keras.applications.vgg16.preprocess_input) # creating an instance of the data generator\r\n",
        "train_generator = datagen.flow_from_directory(TRAIN_PATH, target_size=(224, 224), batch_size=batch_size) # creating the generator for training data\r\n",
        "valid_generator = datagen.flow_from_directory(VALID_PATH, target_size=(224, 224), batch_size=batch_size) # creating the generator for validation data"
      ],
      "execution_count": 7,
      "outputs": [
        {
          "output_type": "stream",
          "text": [
            "Found 7315 images belonging to 102 classes.\n",
            "Found 1829 images belonging to 102 classes.\n"
          ],
          "name": "stdout"
        }
      ]
    },
    {
      "cell_type": "code",
      "metadata": {
        "colab": {
          "base_uri": "https://localhost:8080/"
        },
        "id": "y0KtTIlJg0Cj",
        "outputId": "19285fe5-0e2e-4aca-8800-6cd2d76cd5ef"
      },
      "source": [
        "base_model.compile(optimizer='adam', loss='categorical_crossentropy', metrics=['accuracy'])\r\n",
        "#history = base_model.fit_generator(train_generator,validation_data=valid_generator, epochs=EPOCHS, steps_per_epoch=len(train_generator) / batch_size, validation_steps=len(valid_generator))\r\n",
        "#history = model.fit(X_train, y_train, batch_size=32, epochs=epochs, validation_data=(X_test, y_test))\r\n",
        "history = base_model.fit_generator(train_generator,validation_data=valid_generator, epochs=EPOCHS)\r\n"
      ],
      "execution_count": null,
      "outputs": [
        {
          "output_type": "stream",
          "text": [
            "/usr/local/lib/python3.7/dist-packages/tensorflow/python/keras/engine/training.py:1844: UserWarning: `Model.fit_generator` is deprecated and will be removed in a future version. Please use `Model.fit`, which supports generators.\n",
            "  warnings.warn('`Model.fit_generator` is deprecated and '\n"
          ],
          "name": "stderr"
        },
        {
          "output_type": "stream",
          "text": [
            "Epoch 1/2\n",
            "18/58 [========>.....................] - ETA: 46:31 - loss: 4.2075 - accuracy: 0.2943"
          ],
          "name": "stdout"
        }
      ]
    },
    {
      "cell_type": "code",
      "metadata": {
        "id": "kdxEd1pTimiR"
      },
      "source": [
        "print(max(history.history['val_accuracy']))\r\n",
        "print(history.history)"
      ],
      "execution_count": null,
      "outputs": []
    },
    {
      "cell_type": "code",
      "metadata": {
        "id": "Qo8r6_CXiolM"
      },
      "source": [
        "scor = model.evaluate( train_generator,valid_generator, verbose=0)\r\n",
        "print(\"Test loss:\", scor[0])\r\n",
        "print(\"Test accuracy:\", scor[1])"
      ],
      "execution_count": null,
      "outputs": []
    },
    {
      "cell_type": "code",
      "metadata": {
        "id": "f_XxZDKJiggd"
      },
      "source": [
        ""
      ],
      "execution_count": null,
      "outputs": []
    }
  ]
}